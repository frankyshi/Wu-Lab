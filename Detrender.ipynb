{
  "nbformat": 4,
  "nbformat_minor": 0,
  "metadata": {
    "colab": {
      "provenance": [],
      "authorship_tag": "ABX9TyPF53FZlZ/cEMyDkEcP3mf6",
      "include_colab_link": true
    },
    "kernelspec": {
      "name": "python3",
      "display_name": "Python 3"
    },
    "language_info": {
      "name": "python"
    }
  },
  "cells": [
    {
      "cell_type": "markdown",
      "metadata": {
        "id": "view-in-github",
        "colab_type": "text"
      },
      "source": [
        "<a href=\"https://colab.research.google.com/github/frankyshi/Wu-Lab/blob/main/Detrender.ipynb\" target=\"_parent\"><img src=\"https://colab.research.google.com/assets/colab-badge.svg\" alt=\"Open In Colab\"/></a>"
      ]
    },
    {
      "cell_type": "code",
      "execution_count": null,
      "metadata": {
        "id": "Lkmm5_jfiLwH"
      },
      "outputs": [],
      "source": [
        "import os.path as path\n",
        "from google.colab import files\n",
        "\n",
        "import numpy as np\n",
        "import pandas as pd\n",
        "import matplotlib.pyplot as plt\n",
        "from scipy import signal\n",
        "\n",
        "# Get input file name\n",
        "input_name = ''\n",
        "while path.exists(input_name) == False:\n",
        "  input_name = input('Enter input file name: ') \n",
        "  if path.exists(input_name) == False:\n",
        "    print('File does not exist! Try again.')\n",
        "\n",
        "# Read the file data into time array and current array\n",
        "input = open(input_name, 'r')\n",
        "lines = input.readlines()[9:]\n",
        "time = []\n",
        "current = []\n",
        "for line in lines:\n",
        "  datapt_str = line.strip().split()\n",
        "  time.append(float(datapt_str[0]))\n",
        "  current.append(float(datapt_str[1]))\n",
        "print('Input file successfully read!')\n",
        "\n",
        "# Detrend equation: detrended[time] = current[time] - model[time]\n",
        "degree = 5\n",
        "model = np.poly1d(np.polyfit(time, current, degree)) # polynomial regression model for time vs current\n",
        "detrended_current = np.subtract(current, model(time))\n",
        "detrended_data = pd.DataFrame({'Time' : time, 'Current' : detrended_current})\n",
        "plt.plot(detrended_data['Time'], detrended_data['Current'])\n",
        "print('Data successfully detrended!')\n",
        "\n",
        "# Get output file name\n",
        "output_name = ''\n",
        "while path.exists(output_name) == False:\n",
        "  output_name = input('Enter output file name: ') \n",
        "  if path.exists(output_name) == False:\n",
        "    print('File does not exist! Try again.')\n",
        "\n",
        "# Read detrended data into \n",
        "detrended_data.to_csv(output_name)\n",
        "files.download(output_name)"
      ]
    }
  ]
}