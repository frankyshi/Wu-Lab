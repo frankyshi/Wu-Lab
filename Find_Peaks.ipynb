{
  "nbformat": 4,
  "nbformat_minor": 0,
  "metadata": {
    "colab": {
      "provenance": [],
      "authorship_tag": "ABX9TyNmPpzaDw5iMV/MhVIU9Mp+",
      "include_colab_link": true
    },
    "kernelspec": {
      "name": "python3",
      "display_name": "Python 3"
    },
    "language_info": {
      "name": "python"
    }
  },
  "cells": [
    {
      "cell_type": "markdown",
      "metadata": {
        "id": "view-in-github",
        "colab_type": "text"
      },
      "source": [
        "<a href=\"https://colab.research.google.com/github/frankyshi/Wu-Lab/blob/main/Find_Peaks.ipynb\" target=\"_parent\"><img src=\"https://colab.research.google.com/assets/colab-badge.svg\" alt=\"Open In Colab\"/></a>"
      ]
    },
    {
      "cell_type": "code",
      "execution_count": null,
      "metadata": {
        "id": "DomqHKRAHqEZ"
      },
      "outputs": [],
      "source": [
        "import os.path as path\n",
        "from google.colab import files\n",
        "\n",
        "import numpy as np\n",
        "import pandas as pd\n",
        "import matplotlib.pyplot as plt\n",
        "from scipy.signal import find_peaks, savgol_filter\n",
        "\n",
        "# Get input file name\n",
        "input_name = ''\n",
        "while path.exists(input_name) == False:\n",
        "  input_name = input('Enter input file name: ') \n",
        "  if path.exists(input_name) == False:\n",
        "    print('File does not exist! Try again.')\n",
        "\n",
        "# Read the file data into time array and current array\n",
        "time = []\n",
        "current = []\n",
        "if (input_name.endswith('.txt')):\n",
        "  input = open(input_name, 'r')\n",
        "  lines = input.readlines()[9:]\n",
        "  for line in lines:\n",
        "    datapt_str = line.strip().split()\n",
        "    time.append(float(datapt_str[0]))\n",
        "    current.append(float(datapt_str[1]))\n",
        "elif (input_name.endswith('.csv')):\n",
        "  input = pd.read_csv(input_name)\n",
        "  time = input['Time'].tolist()\n",
        "  current = input['Current'].tolist()\n",
        "print('Input file successfully read!')\n",
        "\n",
        "# Find peaks, put them into dictionary\n",
        "current = savgol_filter(current, 3, 1) # Data smoothing\n",
        "\n",
        "peaks = {'p1': [], 'p2': [], 'p3': []}\n",
        "peak_idx = find_peaks(current)[0]\n",
        "\n",
        "for i, idx in enumerate(peak_idx):\n",
        "  peak = time[idx], current[idx]\n",
        "  key = ''\n",
        "  if i % 3 == 0: # Peak 1\n",
        "    key = 'p1'\n",
        "  elif i % 3 == 1: # Peak 2\n",
        "    key = 'p2'\n",
        "  elif i % 3 == 2: # Peak 3\n",
        "    key = 'p3'\n",
        "  peaks[key].append(peak)\n",
        "\n",
        "plt.plot(time, current)\n",
        "for peak in peaks['p1']:\n",
        "  plt.scatter(peak[0], peak[1], c='r')\n",
        "for peak in peaks['p2']:\n",
        "  plt.scatter(peak[0], peak[1], c='g')\n",
        "for peak in peaks['p3']:\n",
        "  plt.scatter(peak[0], peak[1], c='b')\n",
        "\n",
        "# Get output file name\n",
        "output_name = ''\n",
        "while path.exists(output_name) == False:\n",
        "  output_name = input('Enter output file name: ') \n",
        "  if path.exists(output_name) == False:\n",
        "    print('File does not exist! Try again.')\n",
        "\n",
        "# Read peaks data into\n",
        "p1 = pd.DataFrame(peaks['p1'], columns=['Time1', 'Current1'])\n",
        "p2 = pd.DataFrame(peaks['p2'], columns=['Time2', 'Current2'])\n",
        "p3 = pd.DataFrame(peaks['p3'], columns=['Time3', 'Current3'])\n",
        "\n",
        "p1.to_csv(output_name)\n",
        "p2.to_csv(output_name, mode='a')\n",
        "p3.to_csv(output_name, mode='a')\n",
        "files.download(output_name)"
      ]
    }
  ]
}