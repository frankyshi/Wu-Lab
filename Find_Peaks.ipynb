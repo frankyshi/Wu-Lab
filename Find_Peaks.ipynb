{
  "nbformat": 4,
  "nbformat_minor": 0,
  "metadata": {
    "colab": {
      "provenance": [],
      "authorship_tag": "ABX9TyNmPpzaDw5iMV/MhVIU9Mp+",
      "include_colab_link": true
    },
    "kernelspec": {
      "name": "python3",
      "display_name": "Python 3"
    },
    "language_info": {
      "name": "python"
    }
  },
  "cells": [
    {
      "cell_type": "markdown",
      "metadata": {
        "id": "view-in-github",
        "colab_type": "text"
      },
      "source": [
        "<a href=\"https://colab.research.google.com/github/frankyshi/Wu-Lab/blob/main/Find_Peaks.ipynb\" target=\"_parent\"><img src=\"https://colab.research.google.com/assets/colab-badge.svg\" alt=\"Open In Colab\"/></a>"
      ]
    },
    {
      "cell_type": "code",
      "execution_count": 1,
      "metadata": {
        "id": "DomqHKRAHqEZ",
        "colab": {
          "base_uri": "https://localhost:8080/",
          "height": 415
        },
        "outputId": "647f9229-a147-4ea1-bd88-2f3d1ad71329"
      },
      "outputs": [
        {
          "output_type": "stream",
          "name": "stdout",
          "text": [
            "Enter input file name: text.txt\n",
            "File does not exist! Try again.\n"
          ]
        },
        {
          "output_type": "error",
          "ename": "KeyboardInterrupt",
          "evalue": "ignored",
          "traceback": [
            "\u001b[0;31m---------------------------------------------------------------------------\u001b[0m",
            "\u001b[0;31mKeyboardInterrupt\u001b[0m                         Traceback (most recent call last)",
            "\u001b[0;32m<ipython-input-1-b3b471a04388>\u001b[0m in \u001b[0;36m<cell line: 11>\u001b[0;34m()\u001b[0m\n\u001b[1;32m     10\u001b[0m \u001b[0minput_name\u001b[0m \u001b[0;34m=\u001b[0m \u001b[0;34m''\u001b[0m\u001b[0;34m\u001b[0m\u001b[0;34m\u001b[0m\u001b[0m\n\u001b[1;32m     11\u001b[0m \u001b[0;32mwhile\u001b[0m \u001b[0mpath\u001b[0m\u001b[0;34m.\u001b[0m\u001b[0mexists\u001b[0m\u001b[0;34m(\u001b[0m\u001b[0minput_name\u001b[0m\u001b[0;34m)\u001b[0m \u001b[0;34m==\u001b[0m \u001b[0;32mFalse\u001b[0m\u001b[0;34m:\u001b[0m\u001b[0;34m\u001b[0m\u001b[0;34m\u001b[0m\u001b[0m\n\u001b[0;32m---> 12\u001b[0;31m   \u001b[0minput_name\u001b[0m \u001b[0;34m=\u001b[0m \u001b[0minput\u001b[0m\u001b[0;34m(\u001b[0m\u001b[0;34m'Enter input file name: '\u001b[0m\u001b[0;34m)\u001b[0m\u001b[0;34m\u001b[0m\u001b[0;34m\u001b[0m\u001b[0m\n\u001b[0m\u001b[1;32m     13\u001b[0m   \u001b[0;32mif\u001b[0m \u001b[0mpath\u001b[0m\u001b[0;34m.\u001b[0m\u001b[0mexists\u001b[0m\u001b[0;34m(\u001b[0m\u001b[0minput_name\u001b[0m\u001b[0;34m)\u001b[0m \u001b[0;34m==\u001b[0m \u001b[0;32mFalse\u001b[0m\u001b[0;34m:\u001b[0m\u001b[0;34m\u001b[0m\u001b[0;34m\u001b[0m\u001b[0m\n\u001b[1;32m     14\u001b[0m     \u001b[0mprint\u001b[0m\u001b[0;34m(\u001b[0m\u001b[0;34m'File does not exist! Try again.'\u001b[0m\u001b[0;34m)\u001b[0m\u001b[0;34m\u001b[0m\u001b[0;34m\u001b[0m\u001b[0m\n",
            "\u001b[0;32m/usr/local/lib/python3.9/dist-packages/ipykernel/kernelbase.py\u001b[0m in \u001b[0;36mraw_input\u001b[0;34m(self, prompt)\u001b[0m\n\u001b[1;32m    849\u001b[0m                 \u001b[0;34m\"raw_input was called, but this frontend does not support input requests.\"\u001b[0m\u001b[0;34m\u001b[0m\u001b[0;34m\u001b[0m\u001b[0m\n\u001b[1;32m    850\u001b[0m             )\n\u001b[0;32m--> 851\u001b[0;31m         return self._input_request(str(prompt),\n\u001b[0m\u001b[1;32m    852\u001b[0m             \u001b[0mself\u001b[0m\u001b[0;34m.\u001b[0m\u001b[0m_parent_ident\u001b[0m\u001b[0;34m,\u001b[0m\u001b[0;34m\u001b[0m\u001b[0;34m\u001b[0m\u001b[0m\n\u001b[1;32m    853\u001b[0m             \u001b[0mself\u001b[0m\u001b[0;34m.\u001b[0m\u001b[0m_parent_header\u001b[0m\u001b[0;34m,\u001b[0m\u001b[0;34m\u001b[0m\u001b[0;34m\u001b[0m\u001b[0m\n",
            "\u001b[0;32m/usr/local/lib/python3.9/dist-packages/ipykernel/kernelbase.py\u001b[0m in \u001b[0;36m_input_request\u001b[0;34m(self, prompt, ident, parent, password)\u001b[0m\n\u001b[1;32m    893\u001b[0m             \u001b[0;32mexcept\u001b[0m \u001b[0mKeyboardInterrupt\u001b[0m\u001b[0;34m:\u001b[0m\u001b[0;34m\u001b[0m\u001b[0;34m\u001b[0m\u001b[0m\n\u001b[1;32m    894\u001b[0m                 \u001b[0;31m# re-raise KeyboardInterrupt, to truncate traceback\u001b[0m\u001b[0;34m\u001b[0m\u001b[0;34m\u001b[0m\u001b[0m\n\u001b[0;32m--> 895\u001b[0;31m                 \u001b[0;32mraise\u001b[0m \u001b[0mKeyboardInterrupt\u001b[0m\u001b[0;34m(\u001b[0m\u001b[0;34m\"Interrupted by user\"\u001b[0m\u001b[0;34m)\u001b[0m \u001b[0;32mfrom\u001b[0m \u001b[0;32mNone\u001b[0m\u001b[0;34m\u001b[0m\u001b[0;34m\u001b[0m\u001b[0m\n\u001b[0m\u001b[1;32m    896\u001b[0m             \u001b[0;32mexcept\u001b[0m \u001b[0mException\u001b[0m \u001b[0;32mas\u001b[0m \u001b[0me\u001b[0m\u001b[0;34m:\u001b[0m\u001b[0;34m\u001b[0m\u001b[0;34m\u001b[0m\u001b[0m\n\u001b[1;32m    897\u001b[0m                 \u001b[0mself\u001b[0m\u001b[0;34m.\u001b[0m\u001b[0mlog\u001b[0m\u001b[0;34m.\u001b[0m\u001b[0mwarning\u001b[0m\u001b[0;34m(\u001b[0m\u001b[0;34m\"Invalid Message:\"\u001b[0m\u001b[0;34m,\u001b[0m \u001b[0mexc_info\u001b[0m\u001b[0;34m=\u001b[0m\u001b[0;32mTrue\u001b[0m\u001b[0;34m)\u001b[0m\u001b[0;34m\u001b[0m\u001b[0;34m\u001b[0m\u001b[0m\n",
            "\u001b[0;31mKeyboardInterrupt\u001b[0m: Interrupted by user"
          ]
        }
      ],
      "source": [
        "import os.path as path\n",
        "from google.colab import files\n",
        "\n",
        "import numpy as np\n",
        "import pandas as pd\n",
        "import matplotlib.pyplot as plt\n",
        "from scipy.signal import find_peaks, savgol_filter\n",
        "\n",
        "# Get input file name\n",
        "input_name = ''\n",
        "while path.exists(input_name) == False:\n",
        "  input_name = input('Enter input file name: ') \n",
        "  if path.exists(input_name) == False:\n",
        "    print('File does not exist! Try again.')\n",
        "\n",
        "# Read the file data into time array and current array\n",
        "time = []\n",
        "current = []\n",
        "if (input_name.endswith('.txt')):\n",
        "  input = open(input_name, 'r')\n",
        "  lines = input.readlines()[9:]\n",
        "  for line in lines:\n",
        "    datapt_str = line.strip().split()\n",
        "    time.append(float(datapt_str[0]))\n",
        "    current.append(float(datapt_str[1]))\n",
        "elif (input_name.endswith('.csv')):\n",
        "  input = pd.read_csv(input_name)\n",
        "  time = input['Time'].tolist()\n",
        "  current = input['Current'].tolist()\n",
        "print('Input file successfully read!')\n",
        "\n",
        "# Find peaks, put them into dictionary\n",
        "current = savgol_filter(current, 3, 1) # Data smoothing\n",
        "\n",
        "peaks = {'p1': [], 'p2': [], 'p3': []}\n",
        "peak_idx = find_peaks(current)[0]\n",
        "\n",
        "for i, idx in enumerate(peak_idx):\n",
        "  peak = time[idx], current[idx]\n",
        "  key = ''\n",
        "  if i % 3 == 0: # Peak 1\n",
        "    key = 'p1'\n",
        "  elif i % 3 == 1: # Peak 2\n",
        "    key = 'p2'\n",
        "  elif i % 3 == 2: # Peak 3\n",
        "    key = 'p3'\n",
        "  peaks[key].append(peak)\n",
        "\n",
        "plt.plot(time, current)\n",
        "for peak in peaks['p1']:\n",
        "  plt.scatter(peak[0], peak[1], c='r')\n",
        "for peak in peaks['p2']:\n",
        "  plt.scatter(peak[0], peak[1], c='g')\n",
        "for peak in peaks['p3']:\n",
        "  plt.scatter(peak[0], peak[1], c='b')\n",
        "\n",
        "# Get output file name\n",
        "output_name = ''\n",
        "while path.exists(output_name) == False:\n",
        "  output_name = input('Enter output file name: ') \n",
        "  if path.exists(output_name) == False:\n",
        "    print('File does not exist! Try again.')\n",
        "\n",
        "# Read peaks data into\n",
        "p1 = pd.DataFrame(peaks['p1'], columns=['Time1', 'Current1'])\n",
        "p2 = pd.DataFrame(peaks['p2'], columns=['Time2', 'Current2'])\n",
        "p3 = pd.DataFrame(peaks['p3'], columns=['Time3', 'Current3'])\n",
        "\n",
        "p1.to_csv(output_name)\n",
        "p2.to_csv(output_name, mode='a')\n",
        "p3.to_csv(output_name, mode='a')\n",
        "files.download(output_name)"
      ]
    }
  ]
}